{
  "nbformat": 4,
  "nbformat_minor": 0,
  "metadata": {
    "colab": {
      "provenance": []
    },
    "kernelspec": {
      "name": "python3",
      "display_name": "Python 3"
    },
    "language_info": {
      "name": "python"
    }
  },
  "cells": [
    {
      "cell_type": "markdown",
      "source": [
        "import các package và thư viện cần sử dụng"
      ],
      "metadata": {
        "id": "fbpZEtW5L4iK"
      }
    },
    {
      "cell_type": "code",
      "execution_count": null,
      "metadata": {
        "id": "EytHOBAkcSl-"
      },
      "outputs": [],
      "source": [
        "import numpy as np\n",
        "import matplotlib.pyplot as plt\n",
        "import pandas as pd\n",
        "import time\n",
        "\n",
        "from sklearn.neural_network import MLPClassifier\n",
        "from sklearn.metrics import classification_report\n",
        "from sklearn.linear_model import LogisticRegression # to apply the Logistic regression\n",
        "from sklearn.model_selection import train_test_split # to split the data into two parts\n",
        "from sklearn.naive_bayes import GaussianNB\n",
        "from sklearn.neighbors import KNeighborsClassifier\n",
        "from sklearn.tree import DecisionTreeClassifier\n",
        "from sklearn.metrics import confusion_matrix\n",
        "\n",
        "from sklearn import svm # for Support Vector Machine\n",
        "from sklearn import metrics # for the check the error and accuracy of the model\n",
        "%matplotlib inline\n",
        "import warnings\n",
        "warnings.filterwarnings(\"ignore\")"
      ]
    },
    {
      "cell_type": "markdown",
      "source": [
        "Vì dataset lưu trữ ở driver nên cần kết nối với driver để có thể sử dụng dataset"
      ],
      "metadata": {
        "id": "6fGSv4-WPg3f"
      }
    },
    {
      "cell_type": "code",
      "source": [
        "from google.colab import drive\n",
        "drive.mount('/content/drive')"
      ],
      "metadata": {
        "colab": {
          "base_uri": "https://localhost:8080/"
        },
        "id": "k1pf9gVlcqWn",
        "outputId": "f4569457-57ad-4907-deaf-aeac6407e591"
      },
      "execution_count": null,
      "outputs": [
        {
          "output_type": "stream",
          "name": "stdout",
          "text": [
            "Mounted at /content/drive\n"
          ]
        }
      ]
    },
    {
      "cell_type": "markdown",
      "source": [
        "Đọc file dataset"
      ],
      "metadata": {
        "id": "CNCq-It0Rtj1"
      }
    },
    {
      "cell_type": "code",
      "source": [
        "df = pd.read_csv('/content/drive/MyDrive/MachineLearning/breast_cancer.csv')\n",
        "df"
      ],
      "metadata": {
        "colab": {
          "base_uri": "https://localhost:8080/",
          "height": 189
        },
        "id": "FRlyEIJPdNyh",
        "outputId": "9af98dde-af11-4508-9f72-5e2295426197"
      },
      "execution_count": null,
      "outputs": [
        {
          "output_type": "error",
          "ename": "NameError",
          "evalue": "ignored",
          "traceback": [
            "\u001b[0;31m---------------------------------------------------------------------------\u001b[0m",
            "\u001b[0;31mNameError\u001b[0m                                 Traceback (most recent call last)",
            "\u001b[0;32m<ipython-input-1-5b8cc936d4bc>\u001b[0m in \u001b[0;36m<cell line: 1>\u001b[0;34m()\u001b[0m\n\u001b[0;32m----> 1\u001b[0;31m \u001b[0mdf\u001b[0m \u001b[0;34m=\u001b[0m \u001b[0mpd\u001b[0m\u001b[0;34m.\u001b[0m\u001b[0mread_csv\u001b[0m\u001b[0;34m(\u001b[0m\u001b[0;34m'/content/drive/MyDrive/MachineLearning/breast_cancer.csv'\u001b[0m\u001b[0;34m)\u001b[0m\u001b[0;34m\u001b[0m\u001b[0;34m\u001b[0m\u001b[0m\n\u001b[0m\u001b[1;32m      2\u001b[0m \u001b[0mdf\u001b[0m\u001b[0;34m\u001b[0m\u001b[0;34m\u001b[0m\u001b[0m\n",
            "\u001b[0;31mNameError\u001b[0m: name 'pd' is not defined"
          ]
        }
      ]
    },
    {
      "cell_type": "markdown",
      "source": [
        "Xóa 2 cột là id và unnamed"
      ],
      "metadata": {
        "id": "7ZD9iah5SE32"
      }
    },
    {
      "cell_type": "code",
      "source": [
        "#deleting the useless columns\n",
        "df.drop(['id'], 1, inplace=True)\n",
        "df.drop(['Unnamed: 32'], 1, inplace=True)"
      ],
      "metadata": {
        "id": "luE_UmyL-ZXv"
      },
      "execution_count": null,
      "outputs": []
    },
    {
      "cell_type": "markdown",
      "source": [
        "Xem thông tin từng cột dữ liệu"
      ],
      "metadata": {
        "id": "TB-Qp9LHSRKA"
      }
    },
    {
      "cell_type": "code",
      "source": [
        "df.info()"
      ],
      "metadata": {
        "colab": {
          "base_uri": "https://localhost:8080/"
        },
        "id": "8QrQiewY_XP4",
        "outputId": "770f4119-35d3-4919-d637-07dbbee885cd"
      },
      "execution_count": null,
      "outputs": [
        {
          "output_type": "stream",
          "name": "stdout",
          "text": [
            "<class 'pandas.core.frame.DataFrame'>\n",
            "RangeIndex: 569 entries, 0 to 568\n",
            "Data columns (total 31 columns):\n",
            " #   Column                   Non-Null Count  Dtype  \n",
            "---  ------                   --------------  -----  \n",
            " 0   diagnosis                569 non-null    object \n",
            " 1   radius_mean              569 non-null    float64\n",
            " 2   texture_mean             569 non-null    float64\n",
            " 3   perimeter_mean           569 non-null    float64\n",
            " 4   area_mean                569 non-null    float64\n",
            " 5   smoothness_mean          569 non-null    float64\n",
            " 6   compactness_mean         569 non-null    float64\n",
            " 7   concavity_mean           569 non-null    float64\n",
            " 8   concave points_mean      569 non-null    float64\n",
            " 9   symmetry_mean            569 non-null    float64\n",
            " 10  fractal_dimension_mean   569 non-null    float64\n",
            " 11  radius_se                569 non-null    float64\n",
            " 12  texture_se               569 non-null    float64\n",
            " 13  perimeter_se             569 non-null    float64\n",
            " 14  area_se                  569 non-null    float64\n",
            " 15  smoothness_se            569 non-null    float64\n",
            " 16  compactness_se           569 non-null    float64\n",
            " 17  concavity_se             569 non-null    float64\n",
            " 18  concave points_se        569 non-null    float64\n",
            " 19  symmetry_se              569 non-null    float64\n",
            " 20  fractal_dimension_se     569 non-null    float64\n",
            " 21  radius_worst             569 non-null    float64\n",
            " 22  texture_worst            569 non-null    float64\n",
            " 23  perimeter_worst          569 non-null    float64\n",
            " 24  area_worst               569 non-null    float64\n",
            " 25  smoothness_worst         569 non-null    float64\n",
            " 26  compactness_worst        569 non-null    float64\n",
            " 27  concavity_worst          569 non-null    float64\n",
            " 28  concave points_worst     569 non-null    float64\n",
            " 29  symmetry_worst           569 non-null    float64\n",
            " 30  fractal_dimension_worst  569 non-null    float64\n",
            "dtypes: float64(30), object(1)\n",
            "memory usage: 137.9+ KB\n"
          ]
        }
      ]
    },
    {
      "cell_type": "markdown",
      "source": [
        "Chuyển cột kết quả từ M và B sang kiểu số là 1 và 0"
      ],
      "metadata": {
        "id": "1PBgFZrDSUV1"
      }
    },
    {
      "cell_type": "code",
      "source": [
        "# lets now start with features_mean\n",
        "# now as ou know our diagnosis column is a object type so we can map it to integer value\n",
        "df['diagnosis']=df['diagnosis'].map({'M':1,'B':0})"
      ],
      "metadata": {
        "id": "7ZmLX1S3_adZ"
      },
      "execution_count": null,
      "outputs": []
    },
    {
      "cell_type": "markdown",
      "source": [
        "Trích xuất ra y"
      ],
      "metadata": {
        "id": "taM4zMF2Sqyp"
      }
    },
    {
      "cell_type": "code",
      "source": [
        "y=df['diagnosis']\n",
        "y.head()"
      ],
      "metadata": {
        "colab": {
          "base_uri": "https://localhost:8080/"
        },
        "id": "Kuh95k96_cso",
        "outputId": "f960c1c6-f210-4c7e-e8cf-a48dd2c5273f"
      },
      "execution_count": null,
      "outputs": [
        {
          "output_type": "execute_result",
          "data": {
            "text/plain": [
              "0    1\n",
              "1    1\n",
              "2    1\n",
              "3    1\n",
              "4    1\n",
              "Name: diagnosis, dtype: int64"
            ]
          },
          "metadata": {},
          "execution_count": 8
        }
      ]
    },
    {
      "cell_type": "markdown",
      "source": [
        "Trích xuất ra biến độc lập x"
      ],
      "metadata": {
        "id": "TaejUvunS38E"
      }
    },
    {
      "cell_type": "code",
      "source": [
        "main_pred_var = ['texture_mean','perimeter_mean','smoothness_mean','compactness_mean','symmetry_mean']"
      ],
      "metadata": {
        "id": "dxa_ipSj_2Nq"
      },
      "execution_count": null,
      "outputs": []
    },
    {
      "cell_type": "markdown",
      "source": [
        "Chia tập train và test theo tỉ lệ train 8 và test 2"
      ],
      "metadata": {
        "id": "eEPTx3_3TFFf"
      }
    },
    {
      "cell_type": "code",
      "source": [
        "# spliting the dataset into two part\n",
        "train_set,test_set=train_test_split(df, test_size=0.2)\n",
        "#printing the data shape\n",
        "print(train_set.shape)\n",
        "print(test_set.shape)"
      ],
      "metadata": {
        "colab": {
          "base_uri": "https://localhost:8080/"
        },
        "id": "Htuj17zHAIgA",
        "outputId": "71fa587a-c9e7-4a61-a74d-dbe0ec97924c"
      },
      "execution_count": null,
      "outputs": [
        {
          "output_type": "stream",
          "name": "stdout",
          "text": [
            "(455, 31)\n",
            "(114, 31)\n"
          ]
        }
      ]
    },
    {
      "cell_type": "markdown",
      "source": [
        "Chuyển từ kiểu dataframe sang kiểu numpy.addray"
      ],
      "metadata": {
        "id": "fouVuWLlTLjL"
      }
    },
    {
      "cell_type": "code",
      "source": [
        "x_train=train_set[main_pred_var].values\n",
        "y_train=train_set.diagnosis.values"
      ],
      "metadata": {
        "id": "fnEeGIPXAKzv"
      },
      "execution_count": null,
      "outputs": []
    },
    {
      "cell_type": "markdown",
      "source": [
        "Xem kích thước tập y_train và x_train"
      ],
      "metadata": {
        "id": "g_6zhz6PTSaI"
      }
    },
    {
      "cell_type": "code",
      "source": [
        "print(y_train.shape)\n",
        "print(x_train.shape)"
      ],
      "metadata": {
        "colab": {
          "base_uri": "https://localhost:8080/"
        },
        "id": "cuwPs8uWAMu7",
        "outputId": "57949474-cd45-47b7-a416-7131339f9cd4"
      },
      "execution_count": null,
      "outputs": [
        {
          "output_type": "stream",
          "name": "stdout",
          "text": [
            "(455,)\n",
            "(455, 5)\n"
          ]
        }
      ]
    },
    {
      "cell_type": "markdown",
      "source": [
        "Tương tự như trên và làm với tập test"
      ],
      "metadata": {
        "id": "NIYZd7QsTfoI"
      }
    },
    {
      "cell_type": "code",
      "source": [
        "x_test=test_set[main_pred_var].values\n",
        "y_test=test_set.diagnosis.values\n",
        "print(y_test.shape)\n",
        "print(x_test.shape)"
      ],
      "metadata": {
        "colab": {
          "base_uri": "https://localhost:8080/"
        },
        "id": "v09HAIfRAkIk",
        "outputId": "b57b2236-f4f6-4f11-b644-ff2f44095b85"
      },
      "execution_count": null,
      "outputs": [
        {
          "output_type": "stream",
          "name": "stdout",
          "text": [
            "(114,)\n",
            "(114, 5)\n"
          ]
        }
      ]
    },
    {
      "cell_type": "markdown",
      "source": [
        "**Decesion** Tree"
      ],
      "metadata": {
        "id": "sUq_KnskCXKs"
      }
    },
    {
      "cell_type": "code",
      "source": [
        "start_time = time.time()\n",
        "\n",
        "\n",
        "algo_three=DecisionTreeClassifier()\n",
        "algo_three.fit(x_train,y_train)\n",
        "\n",
        "prediction = algo_three.predict(x_test)\n",
        "\n",
        "confusion = metrics.confusion_matrix(prediction,y_test)\n",
        "\n",
        "acc = metrics.accuracy_score(prediction,y_test)\n",
        "precision = metrics.precision_score(prediction,y_test)\n",
        "recall = metrics.recall_score(prediction,y_test)\n",
        "f1 = metrics.f1_score(prediction,y_test)\n",
        "\n",
        "end_time = time.time()\n",
        "time_excute = end_time - start_time\n",
        "\n",
        "print(\"Confusion matrix: \",confusion)\n",
        "print(\"Accuracy: \",acc)\n",
        "print(\"Precision: \",precision)\n",
        "print(\"Recall: \",recall)\n",
        "print(\"F1 Score: \",f1)\n",
        "print(\"Time: \",time_excute,\"second\")"
      ],
      "metadata": {
        "colab": {
          "base_uri": "https://localhost:8080/"
        },
        "id": "ujctsestAmQp",
        "outputId": "dec13979-75c8-4f40-8903-37f8e55b1142"
      },
      "execution_count": null,
      "outputs": [
        {
          "output_type": "stream",
          "name": "stdout",
          "text": [
            "Confusion matrix:  [[64  5]\n",
            " [ 9 36]]\n",
            "Accuracy:  0.8771929824561403\n",
            "Precision:  0.8780487804878049\n",
            "Recall:  0.8\n",
            "F1 Score:  0.8372093023255814\n",
            "Time:  0.020833730697631836 second\n"
          ]
        }
      ]
    },
    {
      "cell_type": "markdown",
      "source": [
        "KNN"
      ],
      "metadata": {
        "id": "upLVtQC_E_ej"
      }
    },
    {
      "cell_type": "code",
      "source": [
        "start_time = time.time()\n",
        "\n",
        "algo_four=KNeighborsClassifier()\n",
        "algo_four.fit(x_train,y_train)\n",
        "\n",
        "prediction = algo_four.predict(x_test)\n",
        "confusion = metrics.confusion_matrix(prediction,y_test)\n",
        "\n",
        "acc = metrics.accuracy_score(prediction,y_test)\n",
        "precision = metrics.precision_score(prediction,y_test)\n",
        "recall = metrics.recall_score(prediction,y_test)\n",
        "f1 = metrics.f1_score(prediction,y_test)\n",
        "\n",
        "end_time = time.time()\n",
        "time_excute = end_time - start_time\n",
        "\n",
        "print(\"Confusion matrix: \",confusion)\n",
        "print(\"Accuracy: \",acc)\n",
        "print(\"Precision: \",precision)\n",
        "print(\"Recall: \",recall)\n",
        "print(\"F1 Score: \",f1)\n",
        "print(\"Time: \",time_excute,\"second\")"
      ],
      "metadata": {
        "colab": {
          "base_uri": "https://localhost:8080/"
        },
        "id": "yO_loWZ3Ck4q",
        "outputId": "8866ad0a-8a77-4ab3-e67b-518a3226b11b"
      },
      "execution_count": null,
      "outputs": [
        {
          "output_type": "stream",
          "name": "stdout",
          "text": [
            "Confusion matrix:  [[70  6]\n",
            " [ 3 35]]\n",
            "Accuracy:  0.9210526315789473\n",
            "Precision:  0.8536585365853658\n",
            "Recall:  0.9210526315789473\n",
            "F1 Score:  0.8860759493670887\n",
            "Time:  0.02743220329284668 second\n"
          ]
        }
      ]
    }
  ]
}